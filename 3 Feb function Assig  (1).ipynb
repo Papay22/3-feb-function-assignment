{
 "cells": [
  {
   "cell_type": "code",
   "execution_count": null,
   "id": "dc97f2e8-5d4a-409b-a90d-f98fab5449d5",
   "metadata": {},
   "outputs": [],
   "source": [
    "1. Answer: def\n",
    "def odd_numbers():\n",
    "odd_list =\n",
    "for num in range(1,26):\n",
    "if num % 2 != 0:\n",
    "odd_list.append(num)\n",
    "return odd_list\n"
   ]
  },
  {
   "cell_type": "code",
   "execution_count": null,
   "id": "304faa59-48ac-458c-be30-3884a177517a",
   "metadata": {},
   "outputs": [],
   "source": [
    "*args and **kwargs are used in functions to pass a variable number of arguments to a function.\n",
    "*args is used to send a non-keyworded variable length argument list to the function.\n",
    "**kwargs allows you to pass keyworded variable length of arguments to a function.\n",
    "Example of *args: def my_func(*args): for arg in args: print(arg) my_func('Hello', 'Welcome', 'to', 'GeeksforGeeks') Example of **kwargs: def my_func(**kwargs): for key, value in kwargs.items(): print (\"%s == %s\" %(key, value)) my_func(first ='Geeks', mid ='for', last='Geeks')\n"
   ]
  },
  {
   "cell_type": "code",
   "execution_count": null,
   "id": "67d80123-331f-4a5f-affc-f9631c0b8ed3",
   "metadata": {},
   "outputs": [],
   "source": [
    "An iterator in Python is an object that can be used to iterate over a sequence of values. The method used to initialize the iterator object is the iter() method, and the method used for iteration is the next() method. Example: my_list = 2, 4, 6, 8, 10, 12, 14, 16, 18, 20 ,my_iter = iter(my_list) print(next(my_iter)) # prints 2 print(next(my_iter)) # prints 4, print(next(my_iter)) # prints 6,print(next(my_iter)) # prints 8, print(next(my_iter)) # prints 10\n"
   ]
  },
  {
   "cell_type": "code",
   "execution_count": null,
   "id": "e8e271dc-05c4-420a-805e-8d39b8773ad7",
   "metadata": {},
   "outputs": [],
   "source": [
    "A generator function is a special type of function that returns an iterable set of items, one at a time, in a special way. It allows programmers to make an iterator in a fast, easy, and clean way. The yield keyword is used to return the generated sequence one item at a time.Example: def my_generator():n = 1,print('This is printed first') Generator function contains yield statements\n",
    "yield n Using for loopfor item in my_generator():\n",
    "\n",
    "print(ite\n"
   ]
  },
  {
   "cell_type": "code",
   "execution_count": null,
   "id": "4e11db54-69fe-4ccb-82be-13988632a103",
   "metadata": {},
   "outputs": [],
   "source": [
    "def prime_numbers():\n",
    "num = 2\n",
    "while num < 1000:\n",
    "for i in range(2, num):\n",
    "if (num % i) == 0:\n",
    "break\n",
    "else:\n",
    "yield num\n",
    "num += 1\n",
    "prime_gen = prime_numbers()\n",
    "for _ in range(20):\n",
    "print(next(prime_gen))\n"
   ]
  }
 ],
 "metadata": {
  "kernelspec": {
   "display_name": "Python 3 (ipykernel)",
   "language": "python",
   "name": "python3"
  },
  "language_info": {
   "codemirror_mode": {
    "name": "ipython",
    "version": 3
   },
   "file_extension": ".py",
   "mimetype": "text/x-python",
   "name": "python",
   "nbconvert_exporter": "python",
   "pygments_lexer": "ipython3",
   "version": "3.10.8"
  }
 },
 "nbformat": 4,
 "nbformat_minor": 5
}
